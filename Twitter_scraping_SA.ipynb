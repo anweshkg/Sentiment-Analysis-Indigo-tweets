{
 "cells": [
  {
   "cell_type": "markdown",
   "metadata": {},
   "source": [
    "### Importing necessary libraries"
   ]
  },
  {
   "cell_type": "code",
   "execution_count": null,
   "metadata": {},
   "outputs": [],
   "source": [
    "import tweepy\n",
    "import json\n",
    "import pandas as pd"
   ]
  },
  {
   "cell_type": "markdown",
   "metadata": {},
   "source": [
    "### Twitter API keys (v2 essential access)"
   ]
  },
  {
   "cell_type": "code",
   "execution_count": 2,
   "metadata": {},
   "outputs": [],
   "source": [
    "consumer_key = 'DH5xH9k0AjWfFICuT2irkKzcE'\n",
    "consumer_secret = 'v4hLI6TcZUrQVuaB9lPGElt1bbeuV2JzORHuwPRWwtlMCNQPux'\n",
    "access_token = '1444547812339814405-Is9BwcUJjg5ILSLTXlIAGQ9z9cSdYk'\n",
    "access_token_secret = 'HrB6SgFlxUWLHbdwW8Xqk6neqoFlBPNUHk646eVTzhMGK'\n",
    "bearer_token= 'AAAAAAAAAAAAAAAAAAAAAP7XXgEAAAAAhagRs2puISBQzv%2Fx7eERxNmi3dc%3DxjJlIq1AWLouD5M6wqgEQM9O8stCUpF1H7m64lHlstMehcQiJg'"
   ]
  },
  {
   "cell_type": "markdown",
   "metadata": {},
   "source": [
    "### Establishing authentication with API and fetching 100 results for '@IndiGo6E' search query"
   ]
  },
  {
   "cell_type": "code",
   "execution_count": 3,
   "metadata": {},
   "outputs": [],
   "source": [
    "client = tweepy.Client(bearer_token=bearer_token, consumer_key= consumer_key,consumer_secret= consumer_secret,access_token= access_token,access_token_secret= access_token_secret)\n",
    "query = '@IndiGo6E'\n",
    "tweets = client.search_recent_tweets(query=query, max_results=100)"
   ]
  },
  {
   "cell_type": "code",
   "execution_count": 4,
   "metadata": {},
   "outputs": [
    {
     "name": "stdout",
     "output_type": "stream",
     "text": [
      "100\n"
     ]
    }
   ],
   "source": [
    "print(len(tweets.data))"
   ]
  },
  {
   "cell_type": "markdown",
   "metadata": {},
   "source": [
    "### Data fetched :"
   ]
  },
  {
   "cell_type": "code",
   "execution_count": 5,
   "metadata": {},
   "outputs": [
    {
     "name": "stdout",
     "output_type": "stream",
     "text": [
      "0 => #WestBengal has #flight restrictions penalised\n",
      "#public wt hapns to the bookings #noidea I had one with @flyspicejet  solution #goroundrobin  Call cust care #noresponse whose #money #lost #public who loosing #me #public thisis #NewNormal @PTI_News @aajtak @TOIIndiaNews @IndiGo6E\n",
      "1 => @mishralokk @IndiGo6E You guys took money for web check-in as well and then cancelled... Disgusting..\n",
      "2 => @IndiGo6E @amankiet07 already shared in the thread and now in DM as well\n",
      "3 => Payment has done but didn't loaded for next page\n",
      "Please respond @IndiGo6E https://t.co/BzwHJYKSGc\n",
      "4 => I have enough of proof to prove their agenda @travolook \n",
      "While i am going to file case at  consumer affairs, cybercrime and other places.. this is for @IndiGo6E @flyspicejet @airindiain to act on this (2/2)\n",
      "5 => @IndiGo6E I booked a flight for 8th Jan. I could not book the ticket under student category. My luggage weight is beyond the regular capacity allowed. If Indigo can allow me to carry the extra luggage under student category, it would be of great help. I have a valid student id.\n",
      "6 => @jagograhakjago @IndiGo6E @flyspicejet @airindiain Please note there is fraud travel agent by name @travolook which offers attractive discounts to lure customers knowing that flights do cancel and they can retain the refunded amount by airline. They donot refund the fares (1/2)\n",
      "7 => @IndiGo6E #today reinstated four weekly #flights between #Delhi-#PortBlair effective #January 9, #2022.\n",
      "\n",
      "https://t.co/t9rZFXeZJY\n",
      "8 => RT @NirajPalve: @makemytripcare My @IndiGo6E flight to Phuket Booking ID NN7012955798674 &amp; NN2012955798520 was canceled,refund amount is cr…\n",
      "9 => @makemytripcare My @IndiGo6E flight to Phuket Booking ID NN7012955798674 &amp; NN2012955798520 was canceled,refund amount is credited to my MMT Wallet and it won’t get transferred to my original payment account ,tried customer care but IVR unable to help req intervene@DGCAIndia @Pib_MoCA @deepkalra\n",
      "10 => @IndiGo6E No bank/credit card charges online convenience fee. There's a 2.5% charge (not=₹300) that RBI says has to be borne by the retailer, not customer. A friend arrived from Kolkata today, bought a seat for web checkin, didn't have to pay.@RBI @HDFC_Bank @DinersClub @Visa @Mastercard\n",
      "11 => RT @arvindpandey732: There's only one job in this world that gives you an office in the sky; and that is pilot.\"❤️✈️@airindiain @Dchautala…\n",
      "12 => RT @aaigoaairport: Just to inform all, the Runway lights have been rectified and operations returned to normal @AAI_Official @aairedwr @air…\n",
      "13 => Thank you @IndiGo6E for keeping me in Srinagar for two more days… as you didn’t rescheduled my flight for three days …keep your unprofessional attitude fly high\n",
      "14 => @rpramodhkumar @RajivSi53259510 @IndiGo6E 😂🙏🏻\n",
      "15 => @DGCAIndia @JM_Scindia @PMOIndia \n",
      " please help me to resolve refund issue from @makemytrip, they are withholding refund amount cleared by  @IndiGo6E and there is no response to my queries...please help...\n",
      "16 => @IndiGo6E I am travelling to dehradun on 8th Jan. I am fully vaccinated its been more than 15 days after my 2nd dose. Do I still need to carry a negative RT-PCR?\n",
      "17 => @RajivSi53259510 @MalayaliPilot @IndiGo6E Myntra airways 🤔 https://t.co/SokClM4zZr\n",
      "18 => @IndiGo6E Hello,\n",
      "\n",
      "Tha ks for the help, the tickets are rescheduled.\n",
      "19 => @IndiGo6E @IndiGo6E is ur complaint redress system is sleeping? My refund issue is pending from 8th Dec 21. Escalated to ur nodal officer on 24th Dec...your team blindly giving feedback to mobiwik that the services has been done.What is happening? My ticket no is 4255264(latest)\n",
      "20 => @Sanj_eev24 @IndiGo6E @CMOGuj @CMO_Odisha Kindly help\n",
      "21 => @IndiGo6E kindly revert back to mails it’s been 3 days my agent is contacting you but there is no response from your side. Kindly refund my money as I mentioned I’m covid positive.\n",
      "22 => @MalayaliPilot @IndiGo6E Tie is not of Indigo\n",
      "23 => Good Job @IndiGo6E #indigo 🙏🙏🙏 https://t.co/ayDEpcD4dD\n",
      "24 => इंडिगो एयरलाइंस वालों को शुक्रिया कहना की ख़राब मौसम के बाद भी मैं ज़िंदा लौट आया।\n",
      "@IndiGo6E @ShayarImran https://t.co/rsF69XAoQx\n",
      "25 => @aaichnairport @cirium @IndiGo6E Strange how MAA airport is the best considering they damage the luggage each time I come there &amp; fly out from the city. 😣😤\n",
      "26 => RT @Sanj_eev24: @IndiGo6E kindly help, my grandmother got death so my father &amp; mother are traveling emergency from Ahmedabad to bhubneswar…\n",
      "27 => RT @Sanj_eev24: @IndiGo6E kindly help, my grandmother got death so my father &amp; mother are traveling emergency from Ahmedabad to bhubneswar…\n",
      "28 => @IndiGo6E Thank u Keshav for explaining this clearly!! Looking fwd to flying with u guys asap!👍👍\n",
      "29 => @IndiGo6E kindly help, my grandmother got death so my father &amp; mother are traveling emergency from Ahmedabad to bhubneswar but due to heavy traffic on road I think they can loss the flight kindly help for next flight ahmedabad to bhubneswar \n",
      "@CMOGuj @CMO_Odisha https://t.co/Ddu7ywSp6i\n",
      "30 => RT @jadavsanj1993: @IndiGo6E kindly help, my grandmother got death so my father &amp; mother are traveling emergency from Ahmedabad to bhubnesw…\n",
      "31 => RT @jadavsanj1993: @IndiGo6E kindly help, my grandmother got death so my father &amp; mother are traveling emergency from Ahmedabad to bhubnesw…\n",
      "32 => @IndiGo6E @AAI_Official @PuneAirport\n",
      "33 => @IndiGo6E hi I'm flying from Bangalore to delhi on 7th January 2022 do I need to Carry itpcr test report\n",
      "34 => @IndiGo6E kindly help, my grandmother got death so my father &amp; mother are traveling emergency from Ahmedabad to bhubneswar but due to heavy traffic on road I think they can loss the flight kindly help for next flight ahmedabad to bhubneswar \n",
      "@CMOGuj @CMO_Odisha https://t.co/Mj5IBI5Tg3\n",
      "35 => @IndiGo6E Hi team, one of my relative got selection letter from indigo and they are asking for 2500 before proceeding with application. Can you please confirm if that's the rule of Indigo or its someone doing fake .\n",
      "36 => @VivekKMS @BLRAirport @IndiGo6E It's time to bring empathy with the right technology. Public places like airports, railway stations etc need better maintenance and management. From plane to escalators need to be serviced and running properly 24*7 @JM_Scindia @MoCA_GoI\n",
      "37 => RT @TrichyTreasures: ✈Tiruchirappalli-NewDelhi direct flight services from January 10 by IndiGo.✈❤\n",
      "🛫ஜனவரி 10 முதல் திருச்சிராப்பள்ளி - புது…\n",
      "38 => @IndiGo6E Thanks Keshav for the update\n",
      "39 => @Victyy32 @IndiGo6E May be he thinks he’ll get a good girlfriend 😂\n",
      "40 => @IndiGo6E Hello! I have responded you via DM. I expect a call from you now. The experience was horrendous &amp; we hope you people won't repeat it in future!\n",
      "41 => @MalayaliPilot @IndiGo6E https://t.co/cUqOnIvjfa\n",
      "42 => @KotakBankLtd @IndiGo6E Even after no loan amount is due they deduct amount and don't cancel the loan. Also sends messages for due emi and there are no reply of mails done to them i.e. cdservice@kotak.com. Even HDFC Bank is lakhs time better then these shits.@KotakBankLtd @udaykotak https://t.co/3jQ4ithTNO\n",
      "43 => RT @enidhi: Airlines cancel direct flight to Kolkata, but affected passengers can fly to CCU one stop via HYD, BLR etc.. what exactly are w…\n",
      "44 => @KotakBankLtd @IndiGo6E Fraud bank. Even after many tweets, mailing and calling customer support, they even dont try to resolve issues and deduct the money from customer account. The bank is running by looting the innocent customers money. @KotakBankLtd https://t.co/l2gj7rRocU\n",
      "45 => @DelhiAirport @IndiGo6E @DelhiAirport  I was in this flight this day, had good experience\n",
      "46 => RT @TrichyAviation: Dear #Tirupathi passengers, now #Colombo is in your door step. Indigo is providing through check in facility between Ti…\n",
      "47 => @MalayaliPilot @IndiGo6E But.....why? \n",
      "Weird times\n",
      "48 => @IndiGo6E my problem is still unsolved, kindly check into it\n",
      "49 => Airlines cancel direct flight to Kolkata, but affected passengers can fly to CCU one stop via HYD, BLR etc.. what exactly are we achieving other than spreading the virus to transit locations? #aviation #COVID19 @IndiGo6E\n",
      "50 => RT @TrichyAviation: Dear #Tirupathi passengers, now #Colombo is in your door step. Indigo is providing through check in facility between Ti…\n",
      "51 => @mish08183943 @dgca @HardeepSPuri @IndiGo6E I have also problem my missing bag travelled on 24th December. Dubai to chennai via indigo @ronodutta feel like why did I travelled on this airline which I made mistake again traveling through this airline ??\n",
      "52 => @IndiGo6E Could login after that but still unable to book tickets. Payment page does not show option to enter credit card details. It remains a blank page. Also why does your app not allow Diners Club?\n",
      "53 => @IndiGo6E @mishralokk @IndiGo6E no support... Pathetic services... @PMOIndia @MoCA_GoI please take strict action against Indigo... Please look into the matter..\n",
      "54 => @makemytrip @GoFirstairways @IndiGo6E are still charging cancellation and rescheduling fees stating govt has not cancelled any flights. Kindly step in @DGCAIndia @JM_Scindia @HMOIndia no cancellation or rescheduling fees should be charged during this COVID times. @MoHFW_INDIA\n",
      "55 => .@IndiGo6E is ignoring the messages. No news of refund. #VNS2DEL #6E226 Honestly there’s nothing #6E about bad customer experience.\n",
      "56 => @IndiGo6E Replied to your DM\n",
      "57 => @IndiGo6E Reply to your message. Please check and let me know\n",
      "58 => @IndiGo6E we have called you, mailed you, tweet you. \n",
      "Any thing else Sir? for update my booked fight status.\n",
      "59 => @mishralokk @IndiGo6E @IndiGo6E still no reply ..\n",
      "60 => @IndiGo6E Thank you so much 🥰\n",
      "61 => @IndiGo6E I need a resolution right now, the customers can't wait for months for your resolution (the usual time taken by you). Give me my money back.\n",
      "62 => @IndiGo6E I want an immediate reply from the concerned authorities. This kind of behaviour is shameful on your part as my mother and sister are just wandering from here to there for help.\n",
      "63 => @IndiGo6E When layover gap is 7 hours, that too in the late night, why don't you give proper accomodation for rest to passengers? I was coming alongwith a brain surgery recovered patient and suffered a lot at #RGIA hyderabad.\n",
      "64 => @MalayaliPilot @IndiGo6E All these waves and all dem kids got way too much free time 🥱\n",
      "65 => @mishralokk @IndiGo6E @PMOIndia @MoCA_GoI The customers are 2 females, but still the airlines are misbehaving and are not ready to provide any help or resolution to the customer. This is not acceptable on behalf of @IndiGo6E .. @PMOIndia @MoCA_GoI  Please take action against the airlines on priority.\n",
      "66 => @IndiGo6E Thanks Nandini. I received the full refund for both the PNRs. I wonder what happened initially? I started getting the refunds when I stopped asking for it anymore. \n",
      "However, thanks to team @IndiGo6E once more\n",
      "67 => @IndiGo6E IFTR2L\n",
      "68 => @mishralokk @IndiGo6E @PMOIndia Please look in the matter. The airlines are working as per their convenience. They have nothing to do with the customers problem and urgency. @MoCA_GoI\n",
      "69 => @IndiGo6E stranded at kashmir due to flight cancellation and you guys don't even care to update your database with the latest schedule. When other flights are atleast showing status as delayed or something..Why can't you do that too? @varadj83\n",
      "70 => RT @mishralokk: @IndiGo6E Your Connecting flight from Rajkot to Benaras (via delhi) sch at 11.20am today first got delayed by 1.30 hrs afte…\n",
      "71 => RT @amankiet07: @mishralokk @IndiGo6E Still showing delayed.. not cancelled.. @IndiGo6E @MoCA_GoI... Customers are verbally informed that f…\n",
      "72 => @IndiGo6E my queries are unanswered\n",
      "73 => @mishralokk @IndiGo6E Still showing delayed.. not cancelled.. @IndiGo6E @MoCA_GoI... Customers are verbally informed that flight is cancelled... Disgusting behaviour by Indigo.. https://t.co/WGL5Vs5bvT\n",
      "74 => @IndiGo6E Your Connecting flight from Rajkot to Benaras (via delhi) sch at 11.20am today first got delayed by 1.30 hrs after the passengers checked in and just before boarding they asked customers to leave and ask to comeback tomorrow as the flight is now cancelled.\n",
      "75 => RT @aaigoaairport: Just to inform all, the Runway lights have been rectified and operations returned to normal @AAI_Official @aairedwr @air…\n",
      "76 => RT @aaigoaairport: As per information recieved from ATC the Runway lights are not available at present. Pl expect delay in arrivals and dep…\n",
      "77 => @IndiGo6E 3 PNRs booked with Indigo. Family members tested positive for COVID. Trying to request to call centre representatives for a full refund but nobody can solve. Indigo representative pushing for Vouchers. Long hold time ~1Hour \n",
      "Please assist? https://t.co/zKUOBznoDi\n",
      "78 => @IndiGo6E Please help me with a full refund n the group cancellation or else please provide me full credits. I will utilize them after the third way is gone.\n",
      "79 => IndiGo suspends most flights to West Bengal from Delhi and Mumbai\n",
      "@AcnNewz @IndiGo6E #suspended #WestBengal #DelhiMumbai\n",
      "https://t.co/8knXAlFvMt\n",
      "80 => @AjaySingh_SG @flyspicejet @MoCA_GoI @DGCAIndia My wife tested positive &amp; we were quarantined for 14 days from 22/12 to 4/01. How does spicejet expect a quarantined family to fly? Refused full refund! Shame on @flyspicejet ! FYI @IndiGo6E gave us full refund for onward flight 👍! https://t.co/SaqzBQ9ak2\n",
      "81 => RT @aaikolhaairport: AAI's #KolhapurAirport wishes one &amp; all the PAXs and the stakeholders a Very Happy and Prosperous New Year2022! \n",
      "#aaiK…\n",
      "82 => RT @aaikolhaairport: Details of #KLH_Apt(VAKP) 01JAN2022\n",
      "No.of🛬:4\n",
      "No.of✈️:4\n",
      "No.of🛬PAXs:212\n",
      "No.of🛫PAXs:189\n",
      "@IndiGo6E\n",
      "🛬:2\n",
      "IGO7994:61\n",
      "IGO7991:…\n",
      "83 => @IndiGo6E @HindujaDhiraj please help me as well\n",
      "84 => RT @aaikolhaairport: Details of #KLH_Apt(VAKP)02JAN2022\n",
      "No.of🛬:4\n",
      "No.of✈️:4\n",
      "No.of🛬PAXs:211\n",
      "No.of🛫PAXs:187\n",
      "@IndiGo6E\n",
      "🛬:2\n",
      "IGO7994:66\n",
      "IGO7991:6…\n",
      "85 => RT @aaikolhaairport: Details of #KLH_Apt(VAKP) 02JAN2022\n",
      "No.of🛬:4\n",
      "No.of✈️:4\n",
      "No.of🛬PAXs:211\n",
      "No.of🛫PAXs:187\n",
      "@IndiGo6E\n",
      "🛬:2\n",
      "IGO7994:60\n",
      "IGO7991:…\n",
      "86 => RT @aaikolhaairport: Details of #KLH_Apt(VAKP) 03JAN2022\n",
      "No.of🛬:4\n",
      "No.of✈️:4\n",
      "No.of🛬PAXs:166\n",
      "No.of🛫PAXs:144\n",
      "@IndiGo6E\n",
      "🛬:2\n",
      "IGO7994:70\n",
      "IGO7991:…\n",
      "87 => @IndiGo6E I have flight ticket from Bangalore to Ahmadabad and return ticket as well and I am planning to cancel my travel due to this alarming COVID. Can you please waive off the cancellation amount so that I can he a responsible citizen. Thank you in advance. \n",
      "PNR: KJ3YRF\n",
      "88 => RT @aaikolhaairport: #AzadiKaAmritMahotsav \n",
      "Thanks &amp; Regards to Hon'ble Sir MoCA GoI &amp; AAI, given \"Certificate of Appreciation\" to Kolhapur…\n",
      "89 => RT @aaikolhaairport: Details of #KLH_Apt(VAKP) 04JAN2021\n",
      "No.of🛬:3\n",
      "No.of✈️:3\n",
      "No.of🛬PAXs:147\n",
      "No.of🛫PAXs:111\n",
      "@IndiGo6E\n",
      "🛬:2\n",
      "IGO7991:67\n",
      "IGO7994:…\n",
      "90 => RT @TrichyAviation: Dear #Tirupathi passengers, now #Colombo is in your door step. Indigo is providing through check in facility between Ti…\n",
      "91 => RT @TrichyAviation: Dear #Tirupathi passengers, now #Colombo is in your door step. Indigo is providing through check in facility between Ti…\n",
      "92 => RT @aaikolhaairport: Details of #KLH_Apt(VAKP) 05JAN2022\n",
      "No.of🛬:4\n",
      "No.of✈️:4\n",
      "No.of🛬PAXs:170\n",
      "No.of🛫PAXs:162\n",
      "@IndiGo6E\n",
      "🛬:2\n",
      "IGO7991:52\n",
      "IGO7994:…\n",
      "93 => @IndiGo6E Thanks for the hassle free customer service support in refunding tickets due to pandemic. Really appreciate your teams help on this. Regards\n",
      "94 => @IndiGo6E Plss Start flights from Kolkata to Sharjah , Doha As early as possible...Many Needs these Routes flights ☝️🙏😔\n",
      "95 => RT @kharawala_aamir: This is to bring to your notice that I was not able to board my flight from Mumbai - Dubai ( Flight No 6E 61), dated 6…\n",
      "96 => @IndiGo6E please help me with the group cancellation and full refund as we have to cancel it because of rising covid cases. Please some help. on an urgent basis. I am asking for help since a week and also the flight is tomorrow.\n",
      "97 => @IndiGo6E Sent you details on DM\n",
      "98 => RT @mrhimanshumali1: Hve called twice on this num. but no help is being given to me.That's it, first you complete your journey, after that…\n",
      "99 => @IndiGo6E Reminder\n"
     ]
    }
   ],
   "source": [
    "count = 0\n",
    "for tweet in tweets.data:\n",
    "    print(f'{count} => {tweet.text}')\n",
    "    count += 1"
   ]
  },
  {
   "cell_type": "markdown",
   "metadata": {},
   "source": [
    "### Appending data in a list"
   ]
  },
  {
   "cell_type": "code",
   "execution_count": 6,
   "metadata": {},
   "outputs": [],
   "source": [
    "twt_text= []"
   ]
  },
  {
   "cell_type": "code",
   "execution_count": 7,
   "metadata": {},
   "outputs": [],
   "source": [
    "for tweet in tweets.data:\n",
    "    twt_text.append([tweet.id,tweet.text])"
   ]
  },
  {
   "cell_type": "markdown",
   "metadata": {},
   "source": [
    "### Making a DataFrame"
   ]
  },
  {
   "cell_type": "code",
   "execution_count": 8,
   "metadata": {},
   "outputs": [],
   "source": [
    "df_Tweet = pd.DataFrame(twt_text)\n",
    "df_Tweet.to_csv('indigo_reviews.csv', header=[\"id\",\"Tweets\"], index=False)"
   ]
  },
  {
   "cell_type": "code",
   "execution_count": 9,
   "metadata": {},
   "outputs": [
    {
     "data": {
      "text/plain": [
       "<bound method NDFrame.head of                       0                                                  1\n",
       "0   1479007625693917184  #WestBengal has #flight restrictions penalised...\n",
       "1   1479004123143966723  @mishralokk @IndiGo6E You guys took money for ...\n",
       "2   1479003857795514372  @IndiGo6E @amankiet07 already shared in the th...\n",
       "3   1479003470933868544  Payment has done but didn't loaded for next pa...\n",
       "4   1479003422774861824  I have enough of proof to prove their agenda @...\n",
       "..                  ...                                                ...\n",
       "95  1478975138460684288  RT @kharawala_aamir: This is to bring to your ...\n",
       "96  1478974977802059782  @IndiGo6E please help me with the group cancel...\n",
       "97  1478974628676599809                   @IndiGo6E Sent you details on DM\n",
       "98  1478973961119559680  RT @mrhimanshumali1: Hve called twice on this ...\n",
       "99  1478973934632505344                                 @IndiGo6E Reminder\n",
       "\n",
       "[100 rows x 2 columns]>"
      ]
     },
     "execution_count": 9,
     "metadata": {},
     "output_type": "execute_result"
    }
   ],
   "source": [
    "df_Tweet.head"
   ]
  }
 ],
 "metadata": {
  "kernelspec": {
   "display_name": "Python 3",
   "language": "python",
   "name": "python3"
  },
  "language_info": {
   "codemirror_mode": {
    "name": "ipython",
    "version": 3
   },
   "file_extension": ".py",
   "mimetype": "text/x-python",
   "name": "python",
   "nbconvert_exporter": "python",
   "pygments_lexer": "ipython3",
   "version": "3.8.5"
  }
 },
 "nbformat": 4,
 "nbformat_minor": 5
}
